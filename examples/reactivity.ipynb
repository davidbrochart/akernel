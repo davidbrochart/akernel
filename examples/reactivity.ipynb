{
 "cells": [
  {
   "cell_type": "markdown",
   "id": "c712e1d4-26ee-4f67-abe7-acf584756013",
   "metadata": {},
   "source": [
    "In the following cell, `b` is not defined yet:"
   ]
  },
  {
   "cell_type": "code",
   "execution_count": null,
   "id": "ac6f2cd2-8081-420e-a8b1-5c324c8c6c0e",
   "metadata": {},
   "outputs": [],
   "source": [
    "a = b + 1\n",
    "a"
   ]
  },
  {
   "cell_type": "markdown",
   "id": "466f6c01-19cb-4c34-ade9-1802086a85c5",
   "metadata": {},
   "source": [
    "But the variable `a` *is* defined, its *value* is not (`None`).\n",
    "\n",
    "Because `b` was used in the definition of `a`, `b` is now implicitly defined, and its value is also undefined."
   ]
  },
  {
   "cell_type": "code",
   "execution_count": null,
   "id": "247f25c7-438b-4590-8a9a-b8700601af56",
   "metadata": {},
   "outputs": [],
   "source": [
    "b"
   ]
  },
  {
   "cell_type": "markdown",
   "id": "adcb4815-eb2f-4622-afb9-389c7dd77f85",
   "metadata": {},
   "source": [
    "Now let's give a value to `b`."
   ]
  },
  {
   "cell_type": "code",
   "execution_count": null,
   "id": "e3021220-6a09-4ed6-9544-670b5a0826d7",
   "metadata": {},
   "outputs": [],
   "source": [
    "b = 0"
   ]
  },
  {
   "cell_type": "markdown",
   "id": "780b96df-508b-49b9-ba12-20694cfaff10",
   "metadata": {},
   "source": [
    "Its representation in cell 2 is immediately updated, as is the representation of `a`, which depends on `b`, in cell 1.\n",
    "\n",
    "Each time we change `b`'s value, cells 1 and 2 update accordingly."
   ]
  },
  {
   "cell_type": "code",
   "execution_count": null,
   "id": "94bc7b3b-4670-494c-ae3c-b357395c7120",
   "metadata": {},
   "outputs": [],
   "source": [
    "b = 1"
   ]
  },
  {
   "cell_type": "code",
   "execution_count": null,
   "id": "f9a4d072-ebfe-4996-8dc9-88bce1e955b5",
   "metadata": {},
   "outputs": [],
   "source": [
    "b = 2"
   ]
  },
  {
   "cell_type": "markdown",
   "id": "c7efab28-3fe6-400b-acc1-b85dd7404083",
   "metadata": {},
   "source": [
    "We can of course build much more complex data flows, by defining variables on top of others."
   ]
  },
  {
   "cell_type": "code",
   "execution_count": null,
   "id": "caddbba0-1143-4bd3-be2f-c0391215f4db",
   "metadata": {},
   "outputs": [],
   "source": [
    "from math import sin, cos, pi"
   ]
  },
  {
   "cell_type": "code",
   "execution_count": null,
   "id": "7110df10-7246-4a81-acce-678ca13334ad",
   "metadata": {},
   "outputs": [],
   "source": [
    "y = sin(x) + cos(x) + a"
   ]
  },
  {
   "cell_type": "markdown",
   "id": "122eded3-b6f0-482b-b249-8d235234a873",
   "metadata": {},
   "source": [
    "The directed graph can be visualized."
   ]
  },
  {
   "cell_type": "code",
   "execution_count": null,
   "id": "4c170e6d-ba6c-4a76-845a-d3b9c71591c0",
   "metadata": {},
   "outputs": [],
   "source": [
    "y.visualize()"
   ]
  },
  {
   "cell_type": "code",
   "execution_count": null,
   "id": "4955a151-1f50-42c7-a935-1e394aebaa69",
   "metadata": {},
   "outputs": [],
   "source": [
    "y"
   ]
  },
  {
   "cell_type": "code",
   "execution_count": null,
   "id": "968e843d-059a-4c47-97db-89cac2b03fad",
   "metadata": {},
   "outputs": [],
   "source": [
    "x"
   ]
  },
  {
   "cell_type": "code",
   "execution_count": null,
   "id": "bc53ad4f-bee4-47f7-8a75-9f6c37df8f6a",
   "metadata": {},
   "outputs": [],
   "source": [
    "x = 0"
   ]
  },
  {
   "cell_type": "code",
   "execution_count": null,
   "id": "ec322d38-010d-42da-91d0-3b949ac5e73c",
   "metadata": {},
   "outputs": [],
   "source": [
    "x = pi / 2"
   ]
  },
  {
   "cell_type": "code",
   "execution_count": null,
   "id": "527108f8-fb53-4512-a4dc-9450352a88bf",
   "metadata": {},
   "outputs": [],
   "source": [
    "x = pi"
   ]
  },
  {
   "cell_type": "code",
   "execution_count": null,
   "id": "0474edce-a12a-48c5-b9e6-f318bbb5deca",
   "metadata": {},
   "outputs": [],
   "source": [
    "x = 3 * pi / 2"
   ]
  },
  {
   "cell_type": "code",
   "execution_count": null,
   "id": "bb9f8726-b98b-41ff-8c95-8b1ab3c4bbe5",
   "metadata": {},
   "outputs": [],
   "source": [
    "x = 2 * pi"
   ]
  },
  {
   "cell_type": "code",
   "execution_count": null,
   "id": "44c58757-d151-411d-a4b0-93a8252b9e30",
   "metadata": {},
   "outputs": [],
   "source": [
    "b = 3"
   ]
  },
  {
   "cell_type": "markdown",
   "id": "c5b0c4eb-7b27-43dc-a03a-069bd0b8ff41",
   "metadata": {},
   "source": [
    "For a variable to be redefined, it must be deleted first. Previous representations still refer to the previous definition, though (see cell 9)."
   ]
  },
  {
   "cell_type": "code",
   "execution_count": null,
   "id": "64cb76bc-725b-4087-869c-4c540e8f2dc7",
   "metadata": {},
   "outputs": [],
   "source": [
    "del y"
   ]
  },
  {
   "cell_type": "code",
   "execution_count": null,
   "id": "135898da-b998-407f-a4f1-b206b6df499f",
   "metadata": {},
   "outputs": [],
   "source": [
    "y = 2 * a\n",
    "y"
   ]
  },
  {
   "cell_type": "code",
   "execution_count": null,
   "id": "eaf29682-4529-4fcc-bfc9-943394ba8571",
   "metadata": {},
   "outputs": [],
   "source": [
    "b = 4"
   ]
  }
 ],
 "metadata": {
  "kernelspec": {
   "display_name": "Python 3 (akernel-react)",
   "language": "python",
   "name": "akernel-react"
  },
  "language_info": {
   "file_extension": ".py",
   "mimetype": "text/x-python",
   "name": "python",
   "version": "3.9.7"
  }
 },
 "nbformat": 4,
 "nbformat_minor": 5
}
